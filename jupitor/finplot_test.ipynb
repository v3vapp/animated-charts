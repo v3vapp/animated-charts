{
 "cells": [
  {
   "cell_type": "code",
   "execution_count": null,
   "metadata": {},
   "outputs": [],
   "source": [
    "import finplot as fplt\n",
    "import yfinance\n",
    "\n",
    "df = yfinance.download('AAPL')\n",
    "fplt.candlestick_ochl(df[['Open', 'Close', 'High', 'Low']])\n",
    "fplt.show()"
   ]
  }
 ],
 "metadata": {
  "kernelspec": {
   "display_name": ".venv",
   "language": "python",
   "name": "python3"
  },
  "language_info": {
   "codemirror_mode": {
    "name": "ipython",
    "version": 3
   },
   "file_extension": ".py",
   "mimetype": "text/x-python",
   "name": "python",
   "nbconvert_exporter": "python",
   "pygments_lexer": "ipython3",
   "version": "3.10.10"
  },
  "orig_nbformat": 4,
  "vscode": {
   "interpreter": {
    "hash": "480d3fa8be342d90a429dbc714f9f9fdd88517adf2058d040c221c50617b9e49"
   }
  }
 },
 "nbformat": 4,
 "nbformat_minor": 2
}
