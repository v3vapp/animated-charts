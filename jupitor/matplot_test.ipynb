{
 "cells": [
  {
   "cell_type": "code",
   "execution_count": null,
   "metadata": {},
   "outputs": [],
   "source": [
    "import matplotlib.pyplot as plt\n",
    "import matplotlib.dates as mdates\n",
    "import pandas as pd\n",
    "\n",
    "# create a sample dataframe\n",
    "df = pd.DataFrame({'Date': ['2019-01-01', '2019-01-02', '2019-01-03'], 'Value': [1, 2, 3]})\n",
    "\n",
    "# convert the 'Date' column to datetime objects\n",
    "df['Date'] = pd.to_datetime(df['Date'])\n",
    "\n",
    "# convert the datetime objects into numerical values\n",
    "df['DateNum'] = mdates.date2num(df['Date'].dt.to_pydatetime())\n",
    "\n",
    "# plot the bar chart\n",
    "plt.barh(df['DateNum'], df['Value'], height=0.4, color='blue', alpha=0.75, edgecolor='black')\n",
    "\n",
    "# set the y-axis to display dates\n",
    "plt.gca().get_yaxis().set_major_formatter(mdates.DateFormatter(\"%Y-%m-%d\"))\n",
    "\n",
    "# show the plot\n",
    "plt.show()\n"
   ]
  },
  {
   "cell_type": "code",
   "execution_count": null,
   "metadata": {},
   "outputs": [],
   "source": [
    "import matplotlib.pyplot as plt\n",
    "import matplotlib.dates as mdates\n",
    "import pandas as pd\n",
    "\n",
    "# create a sample dataframe\n",
    "df = pd.DataFrame({'Date': ['2019-01-01', '2019-01-02', '2019-01-03'], 'Value': [1, 2, 3]})\n",
    "\n",
    "# convert the 'Date' column to datetime objects\n",
    "df['Date'] = pd.to_datetime(df['Date'])\n",
    "\n",
    "# plot the chart\n",
    "plt.plot(df['Date'], df['Value'])\n",
    "\n",
    "# format the x-axis labels\n",
    "plt.gca().xaxis.set_major_formatter(mdates.DateFormatter('%Y-%m-%d'))\n",
    "\n",
    "# rotate the x-axis labels\n",
    "plt.xticks(rotation=30)\n",
    "\n",
    "# reduce the font size of the x-axis labels\n",
    "plt.tick_params(axis='both', which='major', labelsize=8)\n",
    "\n",
    "# show the plot\n",
    "plt.show()\n"
   ]
  }
 ],
 "metadata": {
  "kernelspec": {
   "display_name": ".venv",
   "language": "python",
   "name": "python3"
  },
  "language_info": {
   "codemirror_mode": {
    "name": "ipython",
    "version": 3
   },
   "file_extension": ".py",
   "mimetype": "text/x-python",
   "name": "python",
   "nbconvert_exporter": "python",
   "pygments_lexer": "ipython3",
   "version": "3.10.10"
  },
  "orig_nbformat": 4,
  "vscode": {
   "interpreter": {
    "hash": "480d3fa8be342d90a429dbc714f9f9fdd88517adf2058d040c221c50617b9e49"
   }
  }
 },
 "nbformat": 4,
 "nbformat_minor": 2
}
