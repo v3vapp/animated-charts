{
 "cells": [
  {
   "cell_type": "code",
   "execution_count": null,
   "metadata": {},
   "outputs": [],
   "source": [
    "import seaborn as sns\n",
    "df = sns.load_dataset(\"penguins\")\n",
    "sns.pairplot(df, hue=\"species\")\n",
    "\n",
    "\n",
    "import matplotlib.pyplot as plt\n",
    "plt.show()"
   ]
  },
  {
   "cell_type": "code",
   "execution_count": null,
   "metadata": {},
   "outputs": [],
   "source": [
    "import seaborn as sns\n",
    "import matplotlib.pyplot as plt\n",
    "import pandas as pd\n",
    "\n",
    "# create a sample dataframe\n",
    "df = pd.DataFrame({'Date': ['2019-01-01', '2019-01-02', '2019-01-03'], 'Value': [1, 2, 3]})\n",
    "\n",
    "# convert the 'Date' column to datetime objects\n",
    "df['Date'] = pd.to_datetime(df['Date'])\n",
    "\n",
    "# set the style for the plot\n",
    "sns.set_style(\"dark\")\n",
    "\n",
    "# create the plot\n",
    "sns.lineplot(x='Date', y='Value', data=df)\n",
    "\n",
    "# rotate the x-axis labels\n",
    "plt.xticks(rotation=30)\n",
    "\n",
    "# show the plot\n",
    "plt.show()\n"
   ]
  }
 ],
 "metadata": {
  "kernelspec": {
   "display_name": ".venv",
   "language": "python",
   "name": "python3"
  },
  "language_info": {
   "codemirror_mode": {
    "name": "ipython",
    "version": 3
   },
   "file_extension": ".py",
   "mimetype": "text/x-python",
   "name": "python",
   "nbconvert_exporter": "python",
   "pygments_lexer": "ipython3",
   "version": "3.10.10"
  },
  "orig_nbformat": 4,
  "vscode": {
   "interpreter": {
    "hash": "480d3fa8be342d90a429dbc714f9f9fdd88517adf2058d040c221c50617b9e49"
   }
  }
 },
 "nbformat": 4,
 "nbformat_minor": 2
}
